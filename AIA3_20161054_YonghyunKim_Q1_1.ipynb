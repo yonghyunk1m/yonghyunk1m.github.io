{
  "nbformat": 4,
  "nbformat_minor": 0,
  "metadata": {
    "colab": {
      "name": "AIA3_20161054_YonghyunKim_Q1-1.ipynb",
      "provenance": [],
      "collapsed_sections": [],
      "mount_file_id": "1BPy-hTAHBFfFV1KGg-v6XFetSe-oh0-d",
      "authorship_tag": "ABX9TyNbyUkskMjkNaLyquyH8lag",
      "include_colab_link": true
    },
    "kernelspec": {
      "name": "python3",
      "display_name": "Python 3"
    },
    "language_info": {
      "name": "python"
    }
  },
  "cells": [
    {
      "cell_type": "markdown",
      "metadata": {
        "id": "view-in-github",
        "colab_type": "text"
      },
      "source": [
        "<a href=\"https://colab.research.google.com/github/yonghyunk1m/yonghyunk1m/blob/main/AIA3_20161054_YonghyunKim_Q1_1.ipynb\" target=\"_parent\"><img src=\"https://colab.research.google.com/assets/colab-badge.svg\" alt=\"Open In Colab\"/></a>"
      ]
    },
    {
      "cell_type": "code",
      "metadata": {
        "colab": {
          "base_uri": "https://localhost:8080/",
          "height": 1000
        },
        "id": "nMmghV1NrAhD",
        "outputId": "773d2799-eae9-406c-8fc8-782b19220887"
      },
      "source": [
        "from keras.datasets import mnist\n",
        "import numpy as np\n",
        "import tqdm\n",
        "import matplotlib.pyplot as plt #Added\n",
        "#you can't use deep learning library such as keras and others without numpy & matplotlib.pyplot\n",
        "\n",
        "class NN(object):\n",
        "    def __init__(self, epoch, lr, h_node): #setting _ should not change\n",
        "        self.epoch = epoch\n",
        "        self.lr = lr\n",
        "        self.h_node = h_node\n",
        "        self.save_name = 'aia3_' + str(int(epoch)) + 'epo_' + str(int(1/lr)) + 'lr_'\n",
        "        #can add parameter here\n",
        "        self.hypothesis_h = np.array([[0.]*self.h_node]*60000) ## 1*100 vector for containing hidden layer nodes\n",
        "        self.is_train = True ## Check if it's training or testing.\n",
        "        # For plotting the loss and accuracy graph.\n",
        "        self.loss_list_test = []\n",
        "        self.accuracy_list_test = []\n",
        "\n",
        "        #dataset \n",
        "        ((x_train, y_train), (x_test, y_test)) = mnist.load_data()\n",
        "        x_train = x_train.reshape(60000, 28 * 28)\n",
        "        x_test = x_test.reshape(10000, 28 * 28)\n",
        "        y_train_onehot = np.eye(10)[y_train]\n",
        "        y_test_onehot = np.eye(10)[y_test]\n",
        "        #train set\n",
        "        self.x_train = x_train\n",
        "        self.y_train = y_train\n",
        "        self.y_train_onehot = y_train_onehot\n",
        "        #test set\n",
        "        self.x_test = x_test\n",
        "        self.y_test = y_test\n",
        "        self.y_test_onehot = y_test_onehot\n",
        "\n",
        "    def sigmoid(self, x):\n",
        "        return 1.0 / (1.0+np.exp(-x))\n",
        "\n",
        "    ### 1. LOSS FUNCTION ###\n",
        "    def loss_func(self, ground_truth, prediction):\n",
        "        #define the loss function code _ use cross-entropy loss function\n",
        "        Iter = 60000 if self.is_train == True else 10000\n",
        "        loss = [.0]*Iter\n",
        "\n",
        "        for j in range(Iter):\n",
        "          loss[j] = -np.sum((ground_truth[j]*np.log(prediction[j]+1e-8))+((1-ground_truth[j])*np.log(1-prediction[j]+1e-8)) ) ## Prevent log0\n",
        "        return loss ## return (1*ITER) vector which contains loss(float) values   \n",
        "    ### END OF LOSS FUNCTION ###        \n",
        "\n",
        "    ### 2. NEURAL NETWORK (DONE) ###        \n",
        "    def network(self, x_input, para_1, para_2):\n",
        "        #define the neural network\n",
        "            #input layer should be 784(28*28) node (= the image size)\n",
        "            #there should exist single hidden layer with 100 node\n",
        "            #output layer should be 10 node (= the number of label (0~9))\n",
        "        x_input = x_input/255 # Normalize the input!!\n",
        "\n",
        "        Iter = 60000 if self.is_train == True else 10000\n",
        "        hypothesis = np.array([[0.]*10]*Iter) ## make Iter*10 matrix which contains probabilities of 0 to 9\n",
        " \n",
        "        weight_1 = para_1[0:784]\n",
        "        bias_1 = para_1[784]\n",
        "        weight_2 = para_2[0:100]\n",
        "        bias_2 = para_2[100]\n",
        "\n",
        "        ## Forwarding\n",
        "        for i in range(Iter):\n",
        "          self.hypothesis_h[i] = self.sigmoid(x_input[i] @ weight_1 + bias_1) # (1*100) = (1*784)@(784*100)\n",
        "          hypothesis[i] = self.sigmoid(self.hypothesis_h[i] @ weight_2 + bias_2) # (1*10) = (1*100)@(100*10)\n",
        "\n",
        "        ## Return hypothesis: (iter*10) Matrix which contains probability of 0to 9.\n",
        "        return hypothesis\n",
        "    ### END OF 2. NEURAL NETWORK ###\n",
        "\n",
        "    ### 3. GRAPH PLOT ###        \n",
        "    def graph_plot(self, epoch, accuracy_list, loss_list):\n",
        "      plt.figure(figsize=(10,5))\n",
        "\n",
        "      if self.is_train == True: #Training Plot\n",
        "        plt.subplot(1,2,1) \n",
        "        plt.xlabel('Epoch') \n",
        "        plt.ylabel('Loss') \n",
        "        plt.plot(list(range(1,epoch+2)),loss_list)\n",
        "        plt.subplot(1,2,2) \n",
        "        plt.xlabel('Epoch')\n",
        "        plt.ylabel('Accuracy') \n",
        "        plt.plot(list(range(1,epoch+2)), accuracy_list)\n",
        "\n",
        "      else: #Testing Plot\n",
        "        plt.subplot(1,2,1) \n",
        "        plt.xlabel('Epoch') \n",
        "        plt.ylabel('Loss') \n",
        "        plt.plot(list(range(1, epoch+1)), loss_list)\n",
        "        plt.subplot(1,2,2) \n",
        "        plt.xlabel('Epoch')\n",
        "        plt.ylabel('Accuracy') \n",
        "        plt.plot(list(range(1, epoch+1)), accuracy_list)\n",
        "\n",
        "      plt.show()\n",
        "      #define for plotting the graph\n",
        "      #x-axis should be epoch number\n",
        "      #y-axis of first graph is accuracy_list\n",
        "      #y-axis of second graph is loss_list\n",
        "      return None\n",
        "\n",
        "    \n",
        "    #you can add other function here\n",
        "    ## sigmoid_prime (Derivative of sigmoid function)\n",
        "    def sigmoid_prime(self, x):\n",
        "        #return x * (1 - x)\n",
        "        return self.sigmoid(x) * (1 - self.sigmoid(x))\n",
        "\n",
        "    def train(self):\n",
        "        #default parameters\n",
        "        weight_1 = np.random.uniform(low=-1.0, high=1.0, size=(784, self.h_node))\n",
        "        weight_2 = np.random.uniform(low=-1.0, high=1.0, size=(self.h_node, 10))\n",
        "        bias_1 = np.random.uniform(low=-1.0, high=1.0, size=(1, self.h_node))\n",
        "        bias_2 = np.random.uniform(low=-1.0, high=1.0, size=(1, 10))\n",
        "        accuracy_list = []\n",
        "        loss_list=[]\n",
        "\n",
        "        #train part\n",
        "        for i in tqdm.tqdm(range(self.epoch + 1)):\n",
        "            #parameter definition part _ should not change\n",
        "                #para_1 is between input layer and hidden layer\n",
        "                #para_2 is between hidden layer and output layer\n",
        "            para_1 = np.concatenate((weight_1, bias_1), axis=0)\n",
        "            para_2 = np.concatenate((weight_2, bias_2), axis=0)\n",
        "            #neural network part _ should not change\n",
        "            hypothesis = self.network(self.x_train, para_1, para_2)\n",
        "            y_predict = np.argmax(hypothesis, axis=1)\n",
        "          \n",
        "            #accuracy & loss part _ should not change\n",
        "            accuracy = 1000 * ((y_predict == self.y_train).mean())\n",
        "            loss = self.loss_func(self.y_train_onehot, hypothesis)        \n",
        "            #you can add here more _ append at accuracy & loss list\n",
        "            #print(\"\\nepoch[\",i,\"] Prediction_detail: \", (y_predict == self.y_train))\n",
        "            #print(\"epoch[\",i,\"] loss_detail: \", loss)   \n",
        "            loss = np.mean(loss) # 60000*1 => 1\n",
        "            loss_list.append(loss)\n",
        "            accuracy_list.append(accuracy)\n",
        "\n",
        "            # For Test Graph\n",
        "            if ((i%5==0) and (i!=0) and (i!=self.epoch)):\n",
        "              self.is_train = False\n",
        "              hypothesis_test = self.network(self.x_test, para_1, para_2)\n",
        "              y_predict_test = np.argmax(hypothesis_test, axis=1)\n",
        "              #accuracy & loss part\n",
        "              accuracy_test = 1000 * ((y_predict_test == self.y_test).mean())\n",
        "              loss_test = self.loss_func(self.y_test_onehot, hypothesis_test) \n",
        "              loss_test = np.mean(loss_test)\n",
        "              self.loss_list_test.append(loss_test)\n",
        "              self.accuracy_list_test.append(accuracy_test)\n",
        "              self.is_train = True\n",
        "\n",
        "            #print accuracy & loss\n",
        "            if ((i%1 == 0) and (i != 0)):\n",
        "                print('  Train: Epoch [%d / %d] accuracy = %f & loss = %f' % (i, self.epoch, accuracy, loss)) #should not change\n",
        "\n",
        "            #backpropagation part\n",
        "                #define backpropagation _ use stochastic gradient descent algorithm\n",
        "                #by this part, each weights & bias of layers are updated\n",
        "            for j in range(60000): ## Mini-batch size: 1\n",
        "              #one_index = list(self.y_train_onehot[i]).index(1) ##Output which number was the answer(1)\n",
        "              a_L = hypothesis[j] ##(10) vector\n",
        "              a_h = self.hypothesis_h[j] ## Default: (100) vector\n",
        "              a_h = np.array([a_h]) ## (1*100) matrix\n",
        "              dJ_dz_L = (-self.y_train_onehot[j]/(a_L + 1e-3) + (1-self.y_train_onehot[j])/(1 - a_L + 1e-3))*(a_L*(1-a_L))\n",
        "              dJ_dz_L = np.transpose(np.array([dJ_dz_L])) ## (10*1) matrix\n",
        " \n",
        "              dJ_dw_L = dJ_dz_L @ a_h ## (10*1)@(1*100) = (10*100) matrix\n",
        "              dJ_db_L = dJ_dz_L ## (10*1) matrix\n",
        "\n",
        "              weight_2 -= self.lr * dJ_dw_L.reshape(100,10) / 60000  # 60000 Iterations for one gradient descent later. Thus, we have to divide by Iterations nubmer.\n",
        "              bias_2 -= self.lr * dJ_db_L.reshape(10) / 60000 # Same as here. \n",
        "\n",
        "              dJ_da_h = weight_2 @ dJ_dz_L ## dz_L_da_h = weight_2 (100*1) Matrix\n",
        "              da_h_dz_h = a_h * (1-a_h) # Derivative of sigma(z_h) (100) vector\n",
        "              dJ_dz_h = dJ_da_h * da_h_dz_h.reshape(100,1) # Chain rule (100*1) Matrix\n",
        "              dz_h_dw_h = self.x_train[j] # (784) vector \n",
        "\n",
        "              dJ_dw_h = dz_h_dw_h.reshape(784, 1) @ np.transpose(dJ_dz_h)  # (784*1) @ (1*100) = (784 * 100) matrix\n",
        "              dJ_db_h = dJ_dz_h # (100*1) Matrix\n",
        "\n",
        "              weight_1 -= self.lr * dJ_dw_h / 60000 # (784 * 100) Matrix\n",
        "              bias_1 -= self.lr * dJ_db_h.reshape(100) / 60000 # (100) vector\n",
        "\n",
        "        #plot accuracy & loss graph depend on epoch _ should not change\n",
        "        self.graph_plot(self.epoch, accuracy_list, loss_list)\n",
        "\n",
        "        #save part _ weigts & bias _ should not change\n",
        "        np.savetxt(self.save_name + 'para1.txt', para_1, delimiter=',')\n",
        "        np.savetxt(self.save_name + 'para2.txt', para_2, delimiter=',')\n",
        "        print('Training is finished')\n",
        "\n",
        "    def test(self): #test function\n",
        "        self.is_train = False\n",
        "        #load weights & bias\n",
        "        para_1 = np.loadtxt(self.save_name + 'para1.txt', delimiter=\",\").reshape((785,self.h_node))\n",
        "        para_2 = np.loadtxt(self.save_name + 'para2.txt', delimiter=\",\").reshape((self.h_node + 1,10))\n",
        "        #test part\n",
        "        hypothesis = self.network(self.x_test, para_1, para_2)\n",
        "        y_predict = np.argmax(hypothesis, axis=1)\n",
        "\n",
        "        #accuracy & loss\n",
        "        accuracy = 1000 * ((y_predict == self.y_test).mean())\n",
        "        loss = self.loss_func(self.y_test_onehot, hypothesis)\n",
        "        loss = np.mean(loss)\n",
        "        self.loss_list_test.append(loss)\n",
        "        self.accuracy_list_test.append(accuracy)\n",
        "        self.graph_plot(int(self.epoch/5), self.accuracy_list_test, self.loss_list_test)\n",
        "        print('\\nTest is finished.\\nTest: accuracy = %f & loss = %f' % (accuracy, loss))\n",
        "\n",
        "\n",
        "def main():\n",
        "    #default epoch & learning rate\n",
        "    epoch = 30\n",
        "    lr = 0.001\n",
        "    h_node = 100\n",
        "\n",
        "    #train & test with default\n",
        "    nn = NN(epoch, lr, h_node)\n",
        "    nn.train()\n",
        "    nn.test()\n",
        "\n",
        "    #can add _ train & test with other\n",
        "    \n",
        "\n",
        "if __name__ == '__main__': #main _ should not change\n",
        "    main()"
      ],
      "execution_count": null,
      "outputs": [
        {
          "output_type": "stream",
          "name": "stdout",
          "text": [
            "Downloading data from https://storage.googleapis.com/tensorflow/tf-keras-datasets/mnist.npz\n",
            "11493376/11490434 [==============================] - 0s 0us/step\n",
            "11501568/11490434 [==============================] - 0s 0us/step\n"
          ]
        },
        {
          "output_type": "stream",
          "name": "stderr",
          "text": [
            "  3%|▎         | 1/31 [00:43<21:57, 43.92s/it]"
          ]
        },
        {
          "output_type": "stream",
          "name": "stdout",
          "text": [
            "  Train: Epoch [1 / 30] accuracy = 96.500000 & loss = 14.561273\n"
          ]
        },
        {
          "output_type": "stream",
          "name": "stderr",
          "text": [
            "\r  6%|▋         | 2/31 [01:29<21:39, 44.81s/it]"
          ]
        },
        {
          "output_type": "stream",
          "name": "stdout",
          "text": [
            "  Train: Epoch [2 / 30] accuracy = 105.550000 & loss = 10.874311\n"
          ]
        },
        {
          "output_type": "stream",
          "name": "stderr",
          "text": [
            "\r 10%|▉         | 3/31 [02:15<21:11, 45.40s/it]"
          ]
        },
        {
          "output_type": "stream",
          "name": "stdout",
          "text": [
            "  Train: Epoch [3 / 30] accuracy = 113.783333 & loss = 8.532617\n"
          ]
        },
        {
          "output_type": "stream",
          "name": "stderr",
          "text": [
            "\r 13%|█▎        | 4/31 [03:01<20:34, 45.70s/it]"
          ]
        },
        {
          "output_type": "stream",
          "name": "stdout",
          "text": [
            "  Train: Epoch [4 / 30] accuracy = 122.150000 & loss = 7.031147\n"
          ]
        },
        {
          "output_type": "stream",
          "name": "stderr",
          "text": [
            "\r 16%|█▌        | 5/31 [03:48<19:58, 46.08s/it]"
          ]
        },
        {
          "output_type": "stream",
          "name": "stdout",
          "text": [
            "  Train: Epoch [5 / 30] accuracy = 131.366667 & loss = 6.059956\n"
          ]
        },
        {
          "output_type": "stream",
          "name": "stderr",
          "text": [
            "\r 19%|█▉        | 6/31 [04:35<19:23, 46.52s/it]"
          ]
        },
        {
          "output_type": "stream",
          "name": "stdout",
          "text": [
            "  Train: Epoch [6 / 30] accuracy = 142.216667 & loss = 5.433890\n"
          ]
        },
        {
          "output_type": "stream",
          "name": "stderr",
          "text": [
            "\r 23%|██▎       | 7/31 [05:21<18:34, 46.42s/it]"
          ]
        },
        {
          "output_type": "stream",
          "name": "stdout",
          "text": [
            "  Train: Epoch [7 / 30] accuracy = 152.550000 & loss = 5.001024\n"
          ]
        },
        {
          "output_type": "stream",
          "name": "stderr",
          "text": [
            "\r 26%|██▌       | 8/31 [06:07<17:42, 46.21s/it]"
          ]
        },
        {
          "output_type": "stream",
          "name": "stdout",
          "text": [
            "  Train: Epoch [8 / 30] accuracy = 161.733333 & loss = 4.692520\n"
          ]
        },
        {
          "output_type": "stream",
          "name": "stderr",
          "text": [
            "\r 29%|██▉       | 9/31 [06:53<16:53, 46.09s/it]"
          ]
        },
        {
          "output_type": "stream",
          "name": "stdout",
          "text": [
            "  Train: Epoch [9 / 30] accuracy = 170.716667 & loss = 4.461843\n"
          ]
        },
        {
          "output_type": "stream",
          "name": "stderr",
          "text": [
            "\r 32%|███▏      | 10/31 [07:39<16:07, 46.09s/it]"
          ]
        },
        {
          "output_type": "stream",
          "name": "stdout",
          "text": [
            "  Train: Epoch [10 / 30] accuracy = 181.533333 & loss = 4.281992\n"
          ]
        },
        {
          "output_type": "stream",
          "name": "stderr",
          "text": [
            "\r 35%|███▌      | 11/31 [08:26<15:27, 46.35s/it]"
          ]
        },
        {
          "output_type": "stream",
          "name": "stdout",
          "text": [
            "  Train: Epoch [11 / 30] accuracy = 191.483333 & loss = 4.141514\n"
          ]
        },
        {
          "output_type": "stream",
          "name": "stderr",
          "text": [
            "\r 39%|███▊      | 12/31 [09:12<14:39, 46.28s/it]"
          ]
        },
        {
          "output_type": "stream",
          "name": "stdout",
          "text": [
            "  Train: Epoch [12 / 30] accuracy = 201.200000 & loss = 4.020028\n"
          ]
        },
        {
          "output_type": "stream",
          "name": "stderr",
          "text": [
            "\r 42%|████▏     | 13/31 [09:58<13:48, 46.04s/it]"
          ]
        },
        {
          "output_type": "stream",
          "name": "stdout",
          "text": [
            "  Train: Epoch [13 / 30] accuracy = 210.500000 & loss = 3.916550\n"
          ]
        },
        {
          "output_type": "stream",
          "name": "stderr",
          "text": [
            "\r 45%|████▌     | 14/31 [10:43<13:01, 45.95s/it]"
          ]
        },
        {
          "output_type": "stream",
          "name": "stdout",
          "text": [
            "  Train: Epoch [14 / 30] accuracy = 219.533333 & loss = 3.826584\n"
          ]
        },
        {
          "output_type": "stream",
          "name": "stderr",
          "text": [
            "\r 48%|████▊     | 15/31 [11:29<12:13, 45.82s/it]"
          ]
        },
        {
          "output_type": "stream",
          "name": "stdout",
          "text": [
            "  Train: Epoch [15 / 30] accuracy = 229.666667 & loss = 3.747017\n"
          ]
        },
        {
          "output_type": "stream",
          "name": "stderr",
          "text": [
            "\r 52%|█████▏    | 16/31 [12:16<11:32, 46.14s/it]"
          ]
        },
        {
          "output_type": "stream",
          "name": "stdout",
          "text": [
            "  Train: Epoch [16 / 30] accuracy = 239.250000 & loss = 3.678560\n"
          ]
        },
        {
          "output_type": "stream",
          "name": "stderr",
          "text": [
            "\r 55%|█████▍    | 17/31 [13:01<10:42, 45.90s/it]"
          ]
        },
        {
          "output_type": "stream",
          "name": "stdout",
          "text": [
            "  Train: Epoch [17 / 30] accuracy = 248.600000 & loss = 3.613501\n"
          ]
        },
        {
          "output_type": "stream",
          "name": "stderr",
          "text": [
            "\r 58%|█████▊    | 18/31 [13:47<09:56, 45.91s/it]"
          ]
        },
        {
          "output_type": "stream",
          "name": "stdout",
          "text": [
            "  Train: Epoch [18 / 30] accuracy = 257.533333 & loss = 3.553870\n"
          ]
        },
        {
          "output_type": "stream",
          "name": "stderr",
          "text": [
            "\r 61%|██████▏   | 19/31 [14:32<09:08, 45.74s/it]"
          ]
        },
        {
          "output_type": "stream",
          "name": "stdout",
          "text": [
            "  Train: Epoch [19 / 30] accuracy = 266.616667 & loss = 3.498756\n"
          ]
        },
        {
          "output_type": "stream",
          "name": "stderr",
          "text": [
            "\r 65%|██████▍   | 20/31 [15:19<08:24, 45.85s/it]"
          ]
        },
        {
          "output_type": "stream",
          "name": "stdout",
          "text": [
            "  Train: Epoch [20 / 30] accuracy = 275.400000 & loss = 3.447463\n"
          ]
        },
        {
          "output_type": "stream",
          "name": "stderr",
          "text": [
            "\r 68%|██████▊   | 21/31 [16:05<07:40, 46.09s/it]"
          ]
        },
        {
          "output_type": "stream",
          "name": "stdout",
          "text": [
            "  Train: Epoch [21 / 30] accuracy = 284.983333 & loss = 3.401538\n"
          ]
        },
        {
          "output_type": "stream",
          "name": "stderr",
          "text": [
            "\r 71%|███████   | 22/31 [16:51<06:54, 46.01s/it]"
          ]
        },
        {
          "output_type": "stream",
          "name": "stdout",
          "text": [
            "  Train: Epoch [22 / 30] accuracy = 294.700000 & loss = 3.356246\n"
          ]
        },
        {
          "output_type": "stream",
          "name": "stderr",
          "text": [
            "\r 74%|███████▍  | 23/31 [17:37<06:07, 45.90s/it]"
          ]
        },
        {
          "output_type": "stream",
          "name": "stdout",
          "text": [
            "  Train: Epoch [23 / 30] accuracy = 304.716667 & loss = 3.313472\n"
          ]
        },
        {
          "output_type": "stream",
          "name": "stderr",
          "text": [
            "\r 77%|███████▋  | 24/31 [18:22<05:21, 45.87s/it]"
          ]
        },
        {
          "output_type": "stream",
          "name": "stdout",
          "text": [
            "  Train: Epoch [24 / 30] accuracy = 314.050000 & loss = 3.272933\n"
          ]
        },
        {
          "output_type": "stream",
          "name": "stderr",
          "text": [
            "\r 81%|████████  | 25/31 [19:08<04:34, 45.83s/it]"
          ]
        },
        {
          "output_type": "stream",
          "name": "stdout",
          "text": [
            "  Train: Epoch [25 / 30] accuracy = 322.400000 & loss = 3.234397\n"
          ]
        },
        {
          "output_type": "stream",
          "name": "stderr",
          "text": [
            "\r 84%|████████▍ | 26/31 [19:55<03:50, 46.10s/it]"
          ]
        },
        {
          "output_type": "stream",
          "name": "stdout",
          "text": [
            "  Train: Epoch [26 / 30] accuracy = 330.516667 & loss = 3.199308\n"
          ]
        },
        {
          "output_type": "stream",
          "name": "stderr",
          "text": [
            "\r 87%|████████▋ | 27/31 [20:41<03:03, 45.96s/it]"
          ]
        },
        {
          "output_type": "stream",
          "name": "stdout",
          "text": [
            "  Train: Epoch [27 / 30] accuracy = 337.800000 & loss = 3.164152\n"
          ]
        },
        {
          "output_type": "stream",
          "name": "stderr",
          "text": [
            "\r 90%|█████████ | 28/31 [21:27<02:18, 46.12s/it]"
          ]
        },
        {
          "output_type": "stream",
          "name": "stdout",
          "text": [
            "  Train: Epoch [28 / 30] accuracy = 346.266667 & loss = 3.130506\n"
          ]
        },
        {
          "output_type": "stream",
          "name": "stderr",
          "text": [
            "\r 94%|█████████▎| 29/31 [22:13<01:31, 45.97s/it]"
          ]
        },
        {
          "output_type": "stream",
          "name": "stdout",
          "text": [
            "  Train: Epoch [29 / 30] accuracy = 353.983333 & loss = 3.098249\n"
          ]
        },
        {
          "output_type": "stream",
          "name": "stderr",
          "text": [
            "\r 97%|█████████▋| 30/31 [22:59<00:45, 45.96s/it]"
          ]
        },
        {
          "output_type": "stream",
          "name": "stdout",
          "text": [
            "  Train: Epoch [30 / 30] accuracy = 362.883333 & loss = 3.067274\n"
          ]
        },
        {
          "output_type": "stream",
          "name": "stderr",
          "text": [
            "100%|██████████| 31/31 [23:43<00:00, 45.91s/it]\n"
          ]
        },
        {
          "output_type": "display_data",
          "data": {
            "image/png": "[encoded data removed]",
            "text/plain": [
              "<Figure size 720x360 with 2 Axes>"
            ]
          },
          "metadata": {
            "needs_background": "light"
          }
        },
        {
          "output_type": "stream",
          "name": "stdout",
          "text": [
            "Training is finished\n"
          ]
        },
        {
          "output_type": "display_data",
          "data": {
            "image/png": "[encoded data removed]",
            "text/plain": [
              "<Figure size 720x360 with 2 Axes>"
            ]
          },
          "metadata": {
            "needs_background": "light"
          }
        },
        {
          "output_type": "stream",
          "name": "stdout",
          "text": [
            "\n",
            "Test is finished.\n",
            "Test: accuracy = 361.400000 & loss = 3.052957\n"
          ]
        }
      ]
    }
  ]
}